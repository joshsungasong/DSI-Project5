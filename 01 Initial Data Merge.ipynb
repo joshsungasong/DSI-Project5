{
 "cells": [
  {
   "cell_type": "markdown",
   "metadata": {},
   "source": [
    "## Load Data on Opportunites and Quotes, and combine into one Dataframe"
   ]
  },
  {
   "cell_type": "code",
   "execution_count": 36,
   "metadata": {},
   "outputs": [
    {
     "name": "stdout",
     "output_type": "stream",
     "text": [
      "total: 2828\n",
      "with full address: 1112\n",
      "missing/incomplete addresses: 1716\n"
     ]
    }
   ],
   "source": [
    "import keys\n",
    "import pandas as pd\n",
    "import numpy as np\n",
    "#load files\n",
    "opportunities = pd.read_csv('opportunities.csv')\n",
    "quotes = pd.read_csv('quotes.csv')\n",
    "#concatenate quote addresses\n",
    "quotes['Address'] = quotes['Bill To Street']+' '+quotes['Bill To City']+' '+quotes['Bill To Country']+' '+quotes['Bill To State/Province']+' '+quotes['Bill To Zip/Postal Code']\n",
    "#since these opportunities addresses are all incomplete, leave as null\n",
    "opportunities['Address'] = np.nan\n",
    "#give the dataframes the same columns\n",
    "new_cols = ['id', 'name', 'close_date', 'stage', 'address']\n",
    "opp = opportunities[['Opportunity ID','Opportunity Name','Close Date','Stage','Address']]\n",
    "opp.columns = new_cols\n",
    "quo = quotes[['Opportunity ID','Opportunity Name','Close Date','Stage','Address']]\n",
    "quo.columns = new_cols\n",
    "#from opp, remove records that are in quo\n",
    "def in_quo(id):\n",
    "    if id in quo.id.values:\n",
    "        return True\n",
    "    else:\n",
    "        return False\n",
    "opp2 = opp[opp.id.apply(in_quo)==False]\n",
    "#combine the two to create the final df\n",
    "df = quo.append(opp2, ignore_index=True)\n",
    "#show counts  (should be 2828, 1112, 1716)\n",
    "print ('total:', df.shape[0])\n",
    "print ('with full address:', df[df['address'].isnull()==False].shape[0])\n",
    "print ('missing/incomplete addresses:', df[df['address'].isnull()==True].shape[0])"
   ]
  },
  {
   "cell_type": "code",
   "execution_count": 37,
   "metadata": {
    "collapsed": true
   },
   "outputs": [],
   "source": [
    "#drop duplicates (these are either complete duplicates, or have slghtly different address format)\n",
    "df.drop_duplicates(subset=['id'], keep='last',inplace=True)"
   ]
  },
  {
   "cell_type": "code",
   "execution_count": 38,
   "metadata": {},
   "outputs": [
    {
     "name": "stdout",
     "output_type": "stream",
     "text": [
      "total: 2558\n",
      "with full address: 894\n",
      "missing/incomplete addresses: 1664\n"
     ]
    }
   ],
   "source": [
    "print ('total:', df.shape[0])\n",
    "print ('with full address:', df[df['address'].isnull()==False].shape[0])\n",
    "print ('missing/incomplete addresses:', df[df['address'].isnull()==True].shape[0])"
   ]
  },
  {
   "cell_type": "code",
   "execution_count": 42,
   "metadata": {
    "collapsed": true
   },
   "outputs": [],
   "source": [
    "#add lattitude and longitude cols\n",
    "df['lat']=''\n",
    "df['lng']=''"
   ]
  },
  {
   "cell_type": "code",
   "execution_count": 44,
   "metadata": {
    "collapsed": true
   },
   "outputs": [],
   "source": [
    "df.to_csv('merged.csv',index_label=False)"
   ]
  }
 ],
 "metadata": {
  "kernelspec": {
   "display_name": "Python [default]",
   "language": "python",
   "name": "python3"
  },
  "language_info": {
   "codemirror_mode": {
    "name": "ipython",
    "version": 3
   },
   "file_extension": ".py",
   "mimetype": "text/x-python",
   "name": "python",
   "nbconvert_exporter": "python",
   "pygments_lexer": "ipython3",
   "version": "3.6.4"
  }
 },
 "nbformat": 4,
 "nbformat_minor": 2
}
