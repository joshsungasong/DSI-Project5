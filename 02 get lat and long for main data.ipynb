{
 "cells": [
  {
   "cell_type": "code",
   "execution_count": 124,
   "metadata": {
    "collapsed": true
   },
   "outputs": [],
   "source": [
    "import keys\n",
    "import pandas as pd\n",
    "import requests\n",
    "from pprint import pprint\n",
    "import json\n",
    "import numpy as np"
   ]
  },
  {
   "cell_type": "code",
   "execution_count": 58,
   "metadata": {
    "collapsed": true
   },
   "outputs": [],
   "source": [
    "df = pd.read_csv('merged.csv')"
   ]
  },
  {
   "cell_type": "code",
   "execution_count": 73,
   "metadata": {},
   "outputs": [
    {
     "data": {
      "text/html": [
       "<div>\n",
       "<style>\n",
       "    .dataframe thead tr:only-child th {\n",
       "        text-align: right;\n",
       "    }\n",
       "\n",
       "    .dataframe thead th {\n",
       "        text-align: left;\n",
       "    }\n",
       "\n",
       "    .dataframe tbody tr th {\n",
       "        vertical-align: top;\n",
       "    }\n",
       "</style>\n",
       "<table border=\"1\" class=\"dataframe\">\n",
       "  <thead>\n",
       "    <tr style=\"text-align: right;\">\n",
       "      <th></th>\n",
       "      <th>id</th>\n",
       "      <th>name</th>\n",
       "      <th>close_date</th>\n",
       "      <th>stage</th>\n",
       "      <th>address</th>\n",
       "      <th>lat</th>\n",
       "      <th>lng</th>\n",
       "    </tr>\n",
       "  </thead>\n",
       "  <tbody>\n",
       "    <tr>\n",
       "      <th>0</th>\n",
       "      <td>0061a00000GcQdL</td>\n",
       "      <td>525 Water St SW- CMC Mgmt</td>\n",
       "      <td>3/8/18</td>\n",
       "      <td>Contract Sent</td>\n",
       "      <td>525 Water St SW Washington United States Distr...</td>\n",
       "      <td>NaN</td>\n",
       "      <td>NaN</td>\n",
       "    </tr>\n",
       "    <tr>\n",
       "      <th>1</th>\n",
       "      <td>0061a00000Mi8dC</td>\n",
       "      <td>Bozzuto - NJ - Park + Garden</td>\n",
       "      <td>6/30/18</td>\n",
       "      <td>Invoice Sent</td>\n",
       "      <td>1450 Garden St Hoboken United States New Jerse...</td>\n",
       "      <td>NaN</td>\n",
       "      <td>NaN</td>\n",
       "    </tr>\n",
       "    <tr>\n",
       "      <th>2</th>\n",
       "      <td>0061a00000M4PAU</td>\n",
       "      <td>Greystar- The Cameron</td>\n",
       "      <td>11/17/17</td>\n",
       "      <td>Deal Signed</td>\n",
       "      <td>8710 Cameron Street Silver Spring United State...</td>\n",
       "      <td>NaN</td>\n",
       "      <td>NaN</td>\n",
       "    </tr>\n",
       "    <tr>\n",
       "      <th>3</th>\n",
       "      <td>0061a00000MgelJ</td>\n",
       "      <td>JLL- 2035 NW Front Ave</td>\n",
       "      <td>1/31/18</td>\n",
       "      <td>Proposal Sent</td>\n",
       "      <td>2035 Front Ave Portland United States Oregon 9...</td>\n",
       "      <td>NaN</td>\n",
       "      <td>NaN</td>\n",
       "    </tr>\n",
       "    <tr>\n",
       "      <th>4</th>\n",
       "      <td>0061a00000KOF8z</td>\n",
       "      <td>International Monetary Fund- Spring Conference</td>\n",
       "      <td>1/31/18</td>\n",
       "      <td>Closed Won</td>\n",
       "      <td>700 19th St NW Washington, United States Distr...</td>\n",
       "      <td>NaN</td>\n",
       "      <td>NaN</td>\n",
       "    </tr>\n",
       "  </tbody>\n",
       "</table>\n",
       "</div>"
      ],
      "text/plain": [
       "                id                                            name close_date  \\\n",
       "0  0061a00000GcQdL                       525 Water St SW- CMC Mgmt     3/8/18   \n",
       "1  0061a00000Mi8dC                    Bozzuto - NJ - Park + Garden    6/30/18   \n",
       "2  0061a00000M4PAU                           Greystar- The Cameron   11/17/17   \n",
       "3  0061a00000MgelJ                          JLL- 2035 NW Front Ave    1/31/18   \n",
       "4  0061a00000KOF8z  International Monetary Fund- Spring Conference    1/31/18   \n",
       "\n",
       "           stage                                            address  lat  lng  \n",
       "0  Contract Sent  525 Water St SW Washington United States Distr...  NaN  NaN  \n",
       "1   Invoice Sent  1450 Garden St Hoboken United States New Jerse...  NaN  NaN  \n",
       "2    Deal Signed  8710 Cameron Street Silver Spring United State...  NaN  NaN  \n",
       "3  Proposal Sent  2035 Front Ave Portland United States Oregon 9...  NaN  NaN  \n",
       "4     Closed Won  700 19th St NW Washington, United States Distr...  NaN  NaN  "
      ]
     },
     "execution_count": 73,
     "metadata": {},
     "output_type": "execute_result"
    }
   ],
   "source": [
    "df.head(5)"
   ]
  },
  {
   "cell_type": "code",
   "execution_count": 80,
   "metadata": {
    "collapsed": true
   },
   "outputs": [],
   "source": [
    "#df2 = df[(df['lat'].isnull()==True) & (df['address'].isnull()==False)]"
   ]
  },
  {
   "cell_type": "code",
   "execution_count": 170,
   "metadata": {},
   "outputs": [
    {
     "name": "stdout",
     "output_type": "stream",
     "text": [
      "request failure for row 57 {'results': [], 'status': 'ZERO_RESULTS'}\n",
      "request failure for row 166 {'results': [], 'status': 'ZERO_RESULTS'}\n",
      "request failure for row 370 {'results': [], 'status': 'ZERO_RESULTS'}\n",
      "request failure for row 403 {'results': [], 'status': 'ZERO_RESULTS'}\n",
      "request failure for row 494 {'results': [], 'status': 'ZERO_RESULTS'}\n",
      "request failure for row 594 {'results': [], 'status': 'ZERO_RESULTS'}\n",
      "request failure for row 692 {'results': [], 'status': 'ZERO_RESULTS'}\n",
      "10 6425+Penn+Ave.+Pittsburgh+United+States+Pennsylvania+15206 40.4568686 -79.9171461\n",
      "20 215+S+16th+St.+Philadelphia+United+States+Pennsylvania+19102 39.9490859 -75.1672045\n",
      "request failure for row 760 {'results': [], 'status': 'ZERO_RESULTS'}\n",
      "30 1180+West+Peachtree+St.\n",
      "Ste.+500+Atlanta+United+States+Georgia+30309 33.7869866 -84.3882734\n",
      "request failure for row 774 {'error_message': 'You have exceeded your daily request quota for this API. We recommend registering for a key at the Google Developers Console: https://console.developers.google.com/apis/credentials?project=_', 'results': [], 'status': 'OVER_QUERY_LIMIT'}\n",
      "40 3393+Peachtree+Rd.+NE+Atlanta+United+States+Georgia+30326 33.8475719 -84.36195359999999\n",
      "50 3201+Race+St.+Philadelphia+United+States+Pennsylvania+19104 39.9590419 -75.18767199999999\n",
      "request failure for row 808 {'error_message': 'You have exceeded your daily request quota for this API. We recommend registering for a key at the Google Developers Console: https://console.developers.google.com/apis/credentials?project=_', 'results': [], 'status': 'OVER_QUERY_LIMIT'}\n",
      "60 216+E.+45th+St.\n",
      "Suite+1200+New+York+United+States+New+York+10017 40.7520969 -73.9721553\n",
      "70 600+Peachtree+St.,+NE+Atlanta+United+States+Georgia+30308 33.7703651 -84.38544189999999\n",
      "80 11+E.+44th+St.\n",
      "Suite+1000+New+York+United+States+New+York+10017 40.7545399 -73.97893959999999\n",
      "90 1150+Sanctuary+Parkway\n",
      "Suite+145+Alpharetta+United+States+Georgia+30009 34.0489626 -84.3094132\n",
      "100 1111+Main+St.\n",
      "Suite+700+Vancouver+United+States+Washington+98660 45.6297923 -122.670815\n",
      "110 550+Peachtree+St+NE\n",
      "Atlanta,+GA+30308+Atlanta+United+States+Georgia+30308 33.7688906 -84.3852493\n",
      "120 1888+Emery+St.+NW+Atlanta+United+States+Georgia+30318 33.8070726 -84.4150097\n",
      "130 121+Speonk+-+Riverhead+Rd.+Riverhead+United+States+New+York+11901 40.8767575 -72.70031139999999\n",
      "request failure for row 920 {'results': [], 'status': 'ZERO_RESULTS'}\n",
      "request failure for row 921 {'error_message': 'You have exceeded your daily request quota for this API. We recommend registering for a key at the Google Developers Console: https://console.developers.google.com/apis/credentials?project=_', 'results': [], 'status': 'OVER_QUERY_LIMIT'}\n",
      "140 33+Quail+Acres+Ln.+Washington+United+States+Pennsylvania+15301 40.2153724 -80.1969652\n",
      "request failure for row 924 {'error_message': 'You have exceeded your daily request quota for this API. We recommend registering for a key at the Google Developers Console: https://console.developers.google.com/apis/credentials?project=_', 'results': [], 'status': 'OVER_QUERY_LIMIT'}\n",
      "request failure for row 933 {'results': [], 'status': 'ZERO_RESULTS'}\n",
      "150 c/o+Jerrico+Webster\n",
      "455+14th+St.+NW+Atlanta+United+States+Georgia+30318 40.7491338 -73.98258969999999\n",
      "request failure for row 934 {'results': [], 'status': 'ZERO_RESULTS'}\n",
      "160 131+Ponce+De+Leon+Ave.+NE+Atlanta+United+States+Georgia+30308 33.7720022 -84.3828867\n",
      "request failure for row 953 {'results': [], 'status': 'ZERO_RESULTS'}\n",
      "170 391+17th+St.+NW+Atlanta+United+States+Georgia+30363 33.7914854 -84.4000398\n",
      "request failure for row 964 {'results': [], 'status': 'ZERO_RESULTS'}\n",
      "request failure for row 965 {'results': [], 'status': 'ZERO_RESULTS'}\n",
      "180 6205-A+Peachtree+Dunwoody+Rd.+NE+Atlanta+United+States+Georgia+30328 33.9246124 -84.350702\n",
      "190 808+S.+Michigan+Ave.+Chicago+United+States+Illinois+60605 41.8714903 -87.6245734\n",
      "200 c/o+Duke+Realty+Corporation\n",
      "Attn:+Accounts+Payable\n",
      "600+E.+96th+St.\n",
      "Suite+100+Indianapolis+United+States+Indiana+46240 39.9289431 -86.1469824\n",
      "210 340+West+85th+Street+New+York+United+States+New+York+10024-3800 40.7886495 -73.9799455\n",
      "220 33+Yonge+St.,+Suite+1000+Toronto+Canada+Ontario+M5E+1G4 43.6474869 -79.3767104\n",
      "230 Suite+200,+12420+-+104+Avenue+NW+Edmonton+Canada+Alberta+T5N+3Z9 53.5464764 -113.5370781\n",
      "240 Suite+200,+12420+-+104+Avenue+NW+Edmonton+Canada+Alberta+T5N+3Z9 53.5464764 -113.5370781\n",
      "request failure for row 1070 {'results': [], 'status': 'ZERO_RESULTS'}\n",
      "250 220+Yonge+St,+Suite+110+Box+511+Toronto+Canada+Ontario+M5B2H1 43.64013449999999 -79.4197681\n",
      "260 4711+Yonge+Street,+Suite+1400+Toronto+Canada+Ontario+M2N+7E4 43.7596903 -79.4099451\n",
      "270 685+SE+Belmont+St+Portland+United+States+Oregon+97214 45.5165355 -122.6588338\n",
      "request failure for row 1101 {'error_message': 'You have exceeded your daily request quota for this API. We recommend registering for a key at the Google Developers Console: https://console.developers.google.com/apis/credentials?project=_', 'results': [], 'status': 'OVER_QUERY_LIMIT'}\n",
      "280 1000+Yonge+Street,+Suite+500+Toronto+Canada+Ontario+M4W+2K2 43.675734 -79.38927389999999\n",
      "request failure for row 1133 {'error_message': 'You have exceeded your daily request quota for this API. We recommend registering for a key at the Google Developers Console: https://console.developers.google.com/apis/credentials?project=_', 'results': [], 'status': 'OVER_QUERY_LIMIT'}\n",
      "290 1900+1st+Ave+Seattle+United+States+Washington+98101 47.6106819 -122.3415914\n",
      "300 345+Spear+Street+San+Francisco+United+States+California+94105 37.7896021 -122.3903697\n",
      "310 7400+SE+Milwaukie+Ave+Portland+United+States+Oregon+97202 45.4712252 -122.6481935\n",
      "320 690+Long+Bridge+St.+San+Francisco+United+States+California+94158 37.7728292 -122.3927012\n",
      "330 500+Terry+A+Francois+Blvd+San+Francisco+United+States+California+94158 37.7704385 -122.3864386\n",
      "340 651+Brannan+St+San+Francisco+United+States+California+94107 37.775454 -122.399961\n",
      "350 221+Main+Street\n",
      "Suite+100+San+Francisco+United+States+California+94105 37.7903878 -122.3922586\n",
      "360 3500+Deer+Creek+Road+Palo+Alto+United+States+California+94304 37.3947259 -122.1505083\n",
      "370 1430+NW+Glisan+St.+Portland+United+States+Oregon+97209 45.5261945 -122.685983\n",
      "380 1030+Castro+St.+Suite+2110+Mountain+View+United+States+California+94040 37.3851128 -122.0845987\n",
      "390 2301+Glenallan+Ave+Silver+Spring+United+States+Maryland+20906 39.0632894 -77.04767129999999\n",
      "400 10+Sheridan+Sq+New+York+United+States+New+York+10014 40.7332693 -74.00215109999999\n",
      "410 Holiday+Inn+National+Airport\n",
      "2650+Jefferson+Davis+HWY+Arlington+United+States+Virginia+22202 38.849459 -77.053381\n",
      "420 1401+N+Taft+St+Arlington+United+States+Virginia+22201 38.8897671 -77.08175279999999\n",
      "430 11850+Freedom+Dr+Reston+United+States+Virginia+20190 38.9589315 -77.35569579999999\n",
      "440 4610+Fairfax+Dr+Arlington+United+States+Virginia+22203 38.8816516 -77.11747510000001\n",
      "request failure for row 1344 {'results': [], 'status': 'ZERO_RESULTS'}\n",
      "450 4925+Greenville+Ave+Dallas+United+States+Texas+75206 32.8472443 -96.7709419\n",
      "request failure for row 1365 {'results': [], 'status': 'ZERO_RESULTS'}\n",
      "460 5101+Wisconsin+Ave+NW,+Suite+410+Washington+United+States+District+of+Columbia+20016 38.956285 -77.08302259999999\n",
      "request failure for row 1383 {'results': [], 'status': 'ZERO_RESULTS'}\n",
      "470 910+15th+St+NW+Washington+United+States+District+of+Columbia+20005 38.901713 -77.0349427\n",
      "request failure for row 1391 {'error_message': 'You have exceeded your daily request quota for this API. We recommend registering for a key at the Google Developers Console: https://console.developers.google.com/apis/credentials?project=_', 'results': [], 'status': 'OVER_QUERY_LIMIT'}\n"
     ]
    }
   ],
   "source": [
    "#(df['lat'].isnull()==True) & \n",
    "#key = 'xxx'\n",
    "key = keys.google\n",
    "counter = 0\n",
    "#loop through all records with an address, but no lat/long\n",
    "for i, row in df[(df['lat'].isnull()==True) & \n",
    "                 (df['address'].isnull()==False)\n",
    "                 #& (df['id']=='0061a00000GcQdL') #for test\n",
    "                ].iterrows():\n",
    "    #get the lat and long from google maps api\n",
    "    address = row.address.replace(' ','+')\n",
    "    url = 'https://maps.googleapis.com/maps/api/geocode/json?address='+address+'=&key='+key\n",
    "    response = requests.get(url)\n",
    "    try:\n",
    "        data = json.loads(response.text)\n",
    "        #print(data)\n",
    "        lat = data['results'][0]['geometry']['location']['lat']\n",
    "        lng = data['results'][0]['geometry']['location']['lng']\n",
    "        #add it to the dataframe\n",
    "        df.loc[df['id'] == row.id, 'lat'] = lat\n",
    "        df.loc[df['id'] == row.id, 'lng'] = lng\n",
    "        #print(address,lat,lng)\n",
    "    except:\n",
    "        print ('request failure for row', i, data)\n",
    "    counter +=1\n",
    "    if counter%10==0:\n",
    "        print(counter,address,lat,lng)\n",
    "        #break"
   ]
  },
  {
   "cell_type": "code",
   "execution_count": 174,
   "metadata": {
    "collapsed": true
   },
   "outputs": [],
   "source": [
    "#df.head(3000)"
   ]
  },
  {
   "cell_type": "code",
   "execution_count": 171,
   "metadata": {},
   "outputs": [
    {
     "data": {
      "text/plain": [
       "(25, 7)"
      ]
     },
     "execution_count": 171,
     "metadata": {},
     "output_type": "execute_result"
    }
   ],
   "source": [
    "#number of uncompleted records\n",
    "df[(df['lat'].isnull()==True) & (df['address'].isnull()==False)].shape"
   ]
  },
  {
   "cell_type": "code",
   "execution_count": 173,
   "metadata": {
    "collapsed": true
   },
   "outputs": [],
   "source": [
    "#export to csv\n",
    "df.to_csv('merged.csv',index_label=False)"
   ]
  },
  {
   "cell_type": "code",
   "execution_count": null,
   "metadata": {
    "collapsed": true
   },
   "outputs": [],
   "source": []
  }
 ],
 "metadata": {
  "kernelspec": {
   "display_name": "Python [default]",
   "language": "python",
   "name": "python3"
  },
  "language_info": {
   "codemirror_mode": {
    "name": "ipython",
    "version": 3
   },
   "file_extension": ".py",
   "mimetype": "text/x-python",
   "name": "python",
   "nbconvert_exporter": "python",
   "pygments_lexer": "ipython3",
   "version": "3.6.4"
  }
 },
 "nbformat": 4,
 "nbformat_minor": 2
}
