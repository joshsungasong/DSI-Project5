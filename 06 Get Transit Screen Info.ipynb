{
 "cells": [
  {
   "cell_type": "code",
   "execution_count": 2,
   "metadata": {
    "collapsed": true
   },
   "outputs": [],
   "source": [
    "import keys\n",
    "import pandas as pd\n",
    "import requests\n",
    "from pprint import pprint\n",
    "import json\n",
    "import numpy as np"
   ]
  },
  {
   "cell_type": "code",
   "execution_count": 4,
   "metadata": {
    "collapsed": true
   },
   "outputs": [],
   "source": [
    "df = pd.read_csv('merged_scraped_cleaned.csv')"
   ]
  },
  {
   "cell_type": "code",
   "execution_count": 5,
   "metadata": {},
   "outputs": [
    {
     "data": {
      "text/plain": [
       "(1683, 7)"
      ]
     },
     "execution_count": 5,
     "metadata": {},
     "output_type": "execute_result"
    }
   ],
   "source": [
    "df.shape"
   ]
  },
  {
   "cell_type": "code",
   "execution_count": 6,
   "metadata": {},
   "outputs": [
    {
     "data": {
      "text/html": [
       "<div>\n",
       "<style>\n",
       "    .dataframe thead tr:only-child th {\n",
       "        text-align: right;\n",
       "    }\n",
       "\n",
       "    .dataframe thead th {\n",
       "        text-align: left;\n",
       "    }\n",
       "\n",
       "    .dataframe tbody tr th {\n",
       "        vertical-align: top;\n",
       "    }\n",
       "</style>\n",
       "<table border=\"1\" class=\"dataframe\">\n",
       "  <thead>\n",
       "    <tr style=\"text-align: right;\">\n",
       "      <th></th>\n",
       "      <th>id</th>\n",
       "      <th>name</th>\n",
       "      <th>close_date</th>\n",
       "      <th>stage</th>\n",
       "      <th>address</th>\n",
       "      <th>lat</th>\n",
       "      <th>lng</th>\n",
       "    </tr>\n",
       "  </thead>\n",
       "  <tbody>\n",
       "    <tr>\n",
       "      <th>0</th>\n",
       "      <td>0061a00000GcQdL</td>\n",
       "      <td>525 Water St SW- CMC Mgmt</td>\n",
       "      <td>3/8/18</td>\n",
       "      <td>Contract Sent</td>\n",
       "      <td>525 Water St SW Washington United States Distr...</td>\n",
       "      <td>38.876059</td>\n",
       "      <td>-77.020240</td>\n",
       "    </tr>\n",
       "    <tr>\n",
       "      <th>1</th>\n",
       "      <td>0061a00000Mi8dC</td>\n",
       "      <td>Bozzuto - NJ - Park + Garden</td>\n",
       "      <td>6/30/18</td>\n",
       "      <td>Invoice Sent</td>\n",
       "      <td>1450 Garden St Hoboken United States New Jerse...</td>\n",
       "      <td>40.754448</td>\n",
       "      <td>-74.028046</td>\n",
       "    </tr>\n",
       "    <tr>\n",
       "      <th>2</th>\n",
       "      <td>0061a00000M4PAU</td>\n",
       "      <td>Greystar- The Cameron</td>\n",
       "      <td>11/17/17</td>\n",
       "      <td>Deal Signed</td>\n",
       "      <td>8710 Cameron St, Silver Spring, MD 20910</td>\n",
       "      <td>38.999289</td>\n",
       "      <td>-77.028885</td>\n",
       "    </tr>\n",
       "    <tr>\n",
       "      <th>3</th>\n",
       "      <td>0061a00000MgelJ</td>\n",
       "      <td>JLL- 2035 NW Front Ave</td>\n",
       "      <td>1/31/18</td>\n",
       "      <td>Proposal Sent</td>\n",
       "      <td>1120 NW Couch St #500, Portland, OR 97209</td>\n",
       "      <td>45.537557</td>\n",
       "      <td>-122.688094</td>\n",
       "    </tr>\n",
       "    <tr>\n",
       "      <th>4</th>\n",
       "      <td>0061a00000KOF8z</td>\n",
       "      <td>International Monetary Fund- Spring Conference</td>\n",
       "      <td>1/31/18</td>\n",
       "      <td>Closed Won</td>\n",
       "      <td>1900 Pennsylvania Ave NW, Washington, DC 20431</td>\n",
       "      <td>38.898940</td>\n",
       "      <td>-77.044101</td>\n",
       "    </tr>\n",
       "  </tbody>\n",
       "</table>\n",
       "</div>"
      ],
      "text/plain": [
       "                id                                            name close_date  \\\n",
       "0  0061a00000GcQdL                       525 Water St SW- CMC Mgmt     3/8/18   \n",
       "1  0061a00000Mi8dC                    Bozzuto - NJ - Park + Garden    6/30/18   \n",
       "2  0061a00000M4PAU                           Greystar- The Cameron   11/17/17   \n",
       "3  0061a00000MgelJ                          JLL- 2035 NW Front Ave    1/31/18   \n",
       "4  0061a00000KOF8z  International Monetary Fund- Spring Conference    1/31/18   \n",
       "\n",
       "           stage                                            address  \\\n",
       "0  Contract Sent  525 Water St SW Washington United States Distr...   \n",
       "1   Invoice Sent  1450 Garden St Hoboken United States New Jerse...   \n",
       "2    Deal Signed           8710 Cameron St, Silver Spring, MD 20910   \n",
       "3  Proposal Sent          1120 NW Couch St #500, Portland, OR 97209   \n",
       "4     Closed Won     1900 Pennsylvania Ave NW, Washington, DC 20431   \n",
       "\n",
       "         lat         lng  \n",
       "0  38.876059  -77.020240  \n",
       "1  40.754448  -74.028046  \n",
       "2  38.999289  -77.028885  \n",
       "3  45.537557 -122.688094  \n",
       "4  38.898940  -77.044101  "
      ]
     },
     "execution_count": 6,
     "metadata": {},
     "output_type": "execute_result"
    }
   ],
   "source": [
    "df.head()"
   ]
  },
  {
   "cell_type": "code",
   "execution_count": null,
   "metadata": {
    "collapsed": true
   },
   "outputs": [],
   "source": [
    "#add new columns for Transit Screen API info"
   ]
  },
  {
   "cell_type": "code",
   "execution_count": 11,
   "metadata": {
    "collapsed": true
   },
   "outputs": [],
   "source": [
    "df['ts_response'] = np.nan\n",
    "df['mobility_score'] = np.nan\n",
    "df['carshare'] = np.nan\n",
    "df['bikeshare'] = np.nan\n",
    "df['ridehailing'] = np.nan\n",
    "df['masstransit'] = np.nan"
   ]
  },
  {
   "cell_type": "code",
   "execution_count": 12,
   "metadata": {},
   "outputs": [
    {
     "name": "stdout",
     "output_type": "stream",
     "text": [
      "0 {'carshare': 12.190236663104924, 'bikeshare': 21.71032692317476, 'ridehailing': 21, 'masstransit': 25.347331728747157}\n",
      "100 {'carshare': 0, 'bikeshare': 0, 'ridehailing': 15, 'masstransit': 15.680790004933058}\n",
      "200 {'carshare': 0, 'bikeshare': 36.442392006210916, 'ridehailing': 21, 'masstransit': 111.59136842875225}\n",
      "400 {'carshare': 0, 'bikeshare': 0, 'ridehailing': 0, 'masstransit': 4.543233646460235}\n",
      "800 {'carshare': 4.703640694113644, 'bikeshare': 19.639934533551557, 'ridehailing': 15, 'masstransit': 42.77287604036906}\n",
      "1000 {'carshare': 0, 'bikeshare': 5.960644923715391, 'ridehailing': 15, 'masstransit': 59.23499401064204}\n",
      "1100 {'carshare': 3.3940584335870363, 'bikeshare': 19.58650707290533, 'ridehailing': 13.5, 'masstransit': 163.6700110180089}\n",
      "1300 {'carshare': 0, 'bikeshare': 6.46900269541779, 'ridehailing': 12.115384615384615, 'masstransit': 13.95485619648367}\n",
      "1900 {'carshare': 2.656418139892391, 'bikeshare': 37.49438852852579, 'ridehailing': 21, 'masstransit': 130.1057092559521}\n",
      "2100 {'carshare': 0, 'bikeshare': 0, 'ridehailing': 12.115384615384615, 'masstransit': 0}\n",
      "2300 {'carshare': 4.318650421743206, 'bikeshare': 13.793103448275863, 'ridehailing': 15, 'masstransit': 264.88526249313475}\n",
      "2700 {'carshare': 3.1648351648351647, 'bikeshare': 12.526096033402922, 'ridehailing': 15, 'masstransit': 119.1652291292626}\n"
     ]
    }
   ],
   "source": [
    "base_url = 'http://mobilityscore-dev.transitscreen.io/api/v1/locations.json?&debug=true'\n",
    "key = keys.ts\n",
    "\n",
    "for i, row in df[(df['ts_response'].isnull()==True)\n",
    "                 #& (df['id']=='0061a00000GcQdL') #for test\n",
    "                ].iterrows():\n",
    "    #print(row.id, row.name, row.lat, row.lng)\n",
    "    try:\n",
    "        url = base_url +'&key='+key+'&geojson=true&coordinates='+str(row.lat)+','+str(row.lng)\n",
    "        #(print(url))\n",
    "        response = requests.get(url) #wait up to 10 seconds\n",
    "        data = json.loads(response.text)\n",
    "        full_response = data['data']\n",
    "        mobility_score = full_response['mobilityScore']['score']\n",
    "        #print (mobility_score)\n",
    "        raw_scores = full_response['mobilityScore']['rawScoreBreakdown']\n",
    "        #print (raw_scores)\n",
    "        carshare = raw_scores['carshare']\n",
    "        bikeshare = raw_scores['bikeshare']\n",
    "        ridehailing = raw_scores['ridehailing']\n",
    "        masstransit = raw_scores['masstransit']\n",
    "        #print(carshare, bikeshare, ridehailing, masstransit)\n",
    "        df.loc[df['id']==row.id, 'ts_response'] = data\n",
    "        df.loc[df['id']==row.id, 'mobility_score'] = mobility_score\n",
    "        df.loc[df['id']==row.id, 'carshare'] = carshare\n",
    "        df.loc[df['id']==row.id, 'bikeshare'] = bikeshare\n",
    "        df.loc[df['id']==row.id, 'ridehailing'] = ridehailing\n",
    "        df.loc[df['id']==row.id, 'masstransit'] = masstransit\n",
    "    except:\n",
    "        print('error on', i, raw_scores)\n",
    "    if i%100 == 0:\n",
    "        df.to_csv('model_data.csv', index=False)\n",
    "        print (i, raw_scores)\n"
   ]
  },
  {
   "cell_type": "code",
   "execution_count": null,
   "metadata": {
    "collapsed": true
   },
   "outputs": [],
   "source": []
  },
  {
   "cell_type": "code",
   "execution_count": 13,
   "metadata": {},
   "outputs": [
    {
     "data": {
      "text/html": [
       "<div>\n",
       "<style>\n",
       "    .dataframe thead tr:only-child th {\n",
       "        text-align: right;\n",
       "    }\n",
       "\n",
       "    .dataframe thead th {\n",
       "        text-align: left;\n",
       "    }\n",
       "\n",
       "    .dataframe tbody tr th {\n",
       "        vertical-align: top;\n",
       "    }\n",
       "</style>\n",
       "<table border=\"1\" class=\"dataframe\">\n",
       "  <thead>\n",
       "    <tr style=\"text-align: right;\">\n",
       "      <th></th>\n",
       "      <th>id</th>\n",
       "      <th>name</th>\n",
       "      <th>close_date</th>\n",
       "      <th>stage</th>\n",
       "      <th>address</th>\n",
       "      <th>lat</th>\n",
       "      <th>lng</th>\n",
       "      <th>ts_response</th>\n",
       "      <th>mobility_score</th>\n",
       "      <th>carshare</th>\n",
       "      <th>bikeshare</th>\n",
       "      <th>ridehailing</th>\n",
       "      <th>masstransit</th>\n",
       "    </tr>\n",
       "  </thead>\n",
       "  <tbody>\n",
       "    <tr>\n",
       "      <th>0</th>\n",
       "      <td>0061a00000GcQdL</td>\n",
       "      <td>525 Water St SW- CMC Mgmt</td>\n",
       "      <td>3/8/18</td>\n",
       "      <td>Contract Sent</td>\n",
       "      <td>525 Water St SW Washington United States Distr...</td>\n",
       "      <td>38.876059</td>\n",
       "      <td>-77.02024</td>\n",
       "      <td>{'data': {'mobilityScore': {'latitude': 38.876...</td>\n",
       "      <td>86.0</td>\n",
       "      <td>12.190237</td>\n",
       "      <td>21.710327</td>\n",
       "      <td>21.0</td>\n",
       "      <td>25.347332</td>\n",
       "    </tr>\n",
       "  </tbody>\n",
       "</table>\n",
       "</div>"
      ],
      "text/plain": [
       "                id                       name close_date          stage  \\\n",
       "0  0061a00000GcQdL  525 Water St SW- CMC Mgmt     3/8/18  Contract Sent   \n",
       "\n",
       "                                             address        lat       lng  \\\n",
       "0  525 Water St SW Washington United States Distr...  38.876059 -77.02024   \n",
       "\n",
       "                                         ts_response  mobility_score  \\\n",
       "0  {'data': {'mobilityScore': {'latitude': 38.876...            86.0   \n",
       "\n",
       "    carshare  bikeshare  ridehailing  masstransit  \n",
       "0  12.190237  21.710327         21.0    25.347332  "
      ]
     },
     "execution_count": 13,
     "metadata": {},
     "output_type": "execute_result"
    }
   ],
   "source": [
    "df[df.id == '0061a00000GcQdL']"
   ]
  },
  {
   "cell_type": "code",
   "execution_count": null,
   "metadata": {
    "collapsed": true
   },
   "outputs": [],
   "source": []
  },
  {
   "cell_type": "code",
   "execution_count": 14,
   "metadata": {
    "collapsed": true
   },
   "outputs": [],
   "source": [
    "df.to_csv('model_data.csv', index=False)"
   ]
  },
  {
   "cell_type": "code",
   "execution_count": null,
   "metadata": {
    "collapsed": true
   },
   "outputs": [],
   "source": []
  }
 ],
 "metadata": {
  "kernelspec": {
   "display_name": "Python [default]",
   "language": "python",
   "name": "python3"
  },
  "language_info": {
   "codemirror_mode": {
    "name": "ipython",
    "version": 3
   },
   "file_extension": ".py",
   "mimetype": "text/x-python",
   "name": "python",
   "nbconvert_exporter": "python",
   "pygments_lexer": "ipython3",
   "version": "3.6.4"
  }
 },
 "nbformat": 4,
 "nbformat_minor": 2
}
